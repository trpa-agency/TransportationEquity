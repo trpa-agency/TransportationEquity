{
 "cells": [
  {
   "cell_type": "markdown",
   "metadata": {
    "heading_collapsed": true
   },
   "source": [
    "### Setup"
   ]
  },
  {
   "cell_type": "code",
   "execution_count": 1,
   "metadata": {
    "ExecuteTime": {
     "end_time": "2023-07-07T20:07:07.929791Z",
     "start_time": "2023-07-07T20:07:06.472809Z"
    },
    "hidden": true
   },
   "outputs": [],
   "source": [
    "# import packages\n",
    "import arcpy\n",
    "import os\n",
    "# set workspace\n",
    "arcpy.env.workspace = \"F:\\GIS\\PROJECTS\\Transportation\\Equity\\Equity.gdb\"\n",
    "workspace           =\"F:\\GIS\\PROJECTS\\Transportation\\Equity\\Equity.gdb\"\n",
    "# set enviornment vairables\n",
    "# set overwrite to true\n",
    "arcpy.env.overwriteOutput = True\n",
    "# in memory output file path\n",
    "memory_workspace = \"memory\" + \"\\\\\"\n",
    "\n",
    "# network dataset info\n",
    "nd_path =  r\"F:\\GIS\\GIS_DATA\\Transportation\\Basemap Features\\Roads\\Streets Network Dataset\\Streets_NEW_ND.gdb\\Streets_SDC_ND\\Streets_CA_NV_ND\"\n",
    "nd_layer_name = \"Streets_CA_NV\"\n",
    "\n",
    "# set local variables\n",
    "# census data\n",
    "dec2010  = \"Tahoe_Census_2010\"\n",
    "dec2020  = \"Tahoe_Census_2020\"\n",
    "acs2020  = \"Tahoe_ACS_2020\"\n",
    "zvh      = 'ZVH_2020_ACS'\n",
    "seniors  = 'Age_2020ACS'\n",
    "disabled = 'HH_Disability_2020ACS'\n",
    "poverty  = 'Poverty_2020ACS'\n",
    "indisable= 'Individual_Disability_2020ACS'\n",
    "\n",
    "# locations data\n",
    "grocery  = \"FreshFoodLocations\"\n",
    "medicare = \"HealthCareLocations\"\n",
    "freebeach= 'Free_Beaches'\n",
    "beaches  = \"Public_Beaches\"\n",
    "meetings = \"PublicMeetingLocations\"\n",
    "\n",
    "# slope classes\n",
    "slope    = \"C:\\GIS\\DB_CONNECT\\Raster.sde\\sde_imagery.SDE.Slope_Reclassified\"\n",
    "zonalstat_slopeClass = \"ZonalStat_Hex_SlopeClassTable\"\n",
    "\n",
    "# transportation network data\n",
    "streets    = \"F:\\GIS\\PROJECTS\\Transportation\\Equity\\Vector.sde\\sde.SDE.Transportation\\sde.SDE.Streets\"\n",
    "urban      = \"F:\\GIS\\PROJECTS\\Transportation\\Equity\\Vector.sde\\sde.SDE.Jurisdictions\\sde.SDE.UrbanAreas\"\n",
    "\n",
    "# service areas\n",
    "freebeachSA= os.path.join(workspace,\"Free_Beach_ServiceArea\")\n",
    "beachSA    = os.path.join(workspace,\"Public_Beach_ServiceArea\")\n",
    "grocerySA  = os.path.join(workspace,\"Fresh_Food_ServiceArea\")\n",
    "medicareSA = os.path.join(workspace,\"Medicare_ServiceArea\")\n",
    "meetingSA  = os.path.join(workspace,\"Public_Meetings_ServiceArea\")\n",
    "\n",
    "# hex bins\n",
    "tahoeHex1km   = \"TahoeTessellation_1sqkm\"\n",
    "tahoeHex01km  = \"TahoeTessellation_0_1sqkm\"\n",
    "# \n",
    "hexZVH      = memory_workspace + \"Hex_ZVH\"\n",
    "hexSenior   = memory_workspace + \"Hex_SENIOR\"\n",
    "hexDisabled = memory_workspace + \"Hex_DISABLED\"\n",
    "hexPoverty  = memory_workspace + \"Hex_POVERTY\"\n",
    "# \n",
    "hexBeachSA    = memory_workspace + \"Hex_BeachSA\"\n",
    "hexGrocerySA  = memory_workspace + \"Hex_GrocerySA\"\n",
    "hexMedicareSA = memory_workspace + \"Hex_MedicareSA\"\n",
    "hexMeetingSA  = memory_workspace + \"Hex_MeetingSA\""
   ]
  },
  {
   "cell_type": "code",
   "execution_count": 7,
   "metadata": {
    "ExecuteTime": {
     "end_time": "2023-07-07T20:09:35.823379Z",
     "start_time": "2023-07-07T20:09:35.805926Z"
    },
    "hidden": true
   },
   "outputs": [],
   "source": [
    "# functions\n",
    "# transfer attributes from spatial join feature class to tessellation\n",
    "def fieldJoinCalc(updateFC, updateFieldsList, sourceFC, sourceFieldsList):\n",
    "    from time import strftime  \n",
    "    print (\"Started data transfer: \" + strftime(\"%Y-%m-%d %H:%M:%S\"))\n",
    "#     log.info(\"Started data transfer: \" + strftime(\"%Y-%m-%d %H:%M:%S\"))\n",
    "    # Use list comprehension to build a dictionary from arcpy SearchCursor  \n",
    "    valueDict = {r[0]:(r[1:]) for r in arcpy.da.SearchCursor(sourceFC, sourceFieldsList)}  \n",
    "    with arcpy.da.UpdateCursor(updateFC, updateFieldsList) as updateRows:  \n",
    "        for updateRow in updateRows:  \n",
    "            # store the Join value of the row being updated in a keyValue variable  \n",
    "            keyValue = updateRow[0]  \n",
    "            # verify that the keyValue is in the Dictionary  \n",
    "            if keyValue in valueDict:  \n",
    "                # transfer the value stored under the keyValue from the dictionary to the updated field.  \n",
    "                updateRow[1] = valueDict[keyValue][0]  \n",
    "                updateRows.updateRow(updateRow)    \n",
    "    del valueDict  \n",
    "    print (\"Finished data transfer: \" + strftime(\"%Y-%m-%d %H:%M:%S\"))\n",
    "\n",
    "# create service area\n",
    "def createServiceArea(nd_path, nd_layer_name):\n",
    "    # Check out the Network Analyst extension license.\n",
    "    arcpy.CheckOutExtension(\"network\")\n",
    "\n",
    "    # Create a network dataset layer. The layer will be referenced using its name.\n",
    "    arcpy.nax.MakeNetworkDatasetLayer(nd_path, nd_layer_name)\n",
    "\n",
    "    # Instantiate a ServiceArea analysis object.\n",
    "    service_area = arcpy.nax.ServiceArea(nd_layer_name)\n",
    "\n",
    "    # Get the desired travel mode for the analysis.\n",
    "    nd_travel_modes = arcpy.nax.GetTravelModes(nd_layer_name)\n",
    "    travel_mode = nd_travel_modes[\"New Travel Mode\"]\n",
    "\n",
    "    # Set properties.\n",
    "    service_area.distanceUnits     = arcpy.nax.DistanceUnits.Miles\n",
    "    service_area.defaultImpedanceCutoffs = [402.336,804.672,1609.344,3218.688, 6400]\n",
    "    service_area.travelMode        = travel_mode\n",
    "    service_area.allowAutoRelocate = True\n",
    "    service_area.outputType        = arcpy.nax.ServiceAreaOutputType.Polygons\n",
    "    service_area.geometryAtOverlap = arcpy.nax.ServiceAreaOverlapGeometry.Split\n",
    "    service_area.searchTolerance   = 5000\n",
    "    return service_area\n",
    "\n",
    "# solve service area\n",
    "def solveServiceArea(input_facilities, output_polygons, service_area):\n",
    "    arcpy.management.Delete(output_polygons)\n",
    "#     createServiceArea(nd_path,nd_layer_name)\n",
    "    # load facilities\n",
    "    service_area.load(arcpy.nax.ServiceAreaInputDataType.Facilities, \n",
    "                  input_facilities)\n",
    "    \n",
    "    # Solve the analysis.\n",
    "    result = service_area.solve()\n",
    "    # Export the results to a feature class. If the analysis failed print all the \n",
    "    # messages.\n",
    "    if result.solveSucceeded:\n",
    "        result.export(arcpy.nax.ServiceAreaOutputDataType.Polygons, output_polygons)\n",
    "        print (f\"Service Area generated for {input_facilities} and saved as {output_polygons}\")\n",
    "    else:\n",
    "        arcpy.AddError(\"Analysis failed\")\n",
    "        # Print all the warning messages.\n",
    "        for message in result.solverMessages(arcpy.nax.MessageSeverity.Warning):\n",
    "            arcpy.AddWarning(message[-1])\n",
    "        # Print all the error messages.\n",
    "        for message in result.solverMessages(arcpy.nax.MessageSeverity.Error):\n",
    "            arcpy.AddError(message[-1])\n"
   ]
  },
  {
   "cell_type": "markdown",
   "metadata": {},
   "source": [
    "## Analysis"
   ]
  },
  {
   "cell_type": "markdown",
   "metadata": {
    "heading_collapsed": true
   },
   "source": [
    "### Generate Tessellations"
   ]
  },
  {
   "cell_type": "code",
   "execution_count": 6,
   "metadata": {
    "ExecuteTime": {
     "end_time": "2023-06-26T20:27:32.370168Z",
     "start_time": "2023-06-26T20:24:33.861523Z"
    },
    "hidden": true,
    "scrolled": true
   },
   "outputs": [
    {
     "data": {
      "text/html": [
       "<div class='gpresult'><h2>Messages</h2><div id='messages' data-messages='[\"Start Time: Monday, June 26, 2023 1:27:20 PM\",\"Succeeded at Monday, June 26, 2023 1:27:28 PM (Elapsed Time: 8.33 seconds)\"]' data-show='true'><div id = 'default' /></div></div>"
      ],
      "text/plain": [
       "<Result 'TahoeTessellation_0_1sqkm'>"
      ]
     },
     "execution_count": 6,
     "metadata": {},
     "output_type": "execute_result"
    }
   ],
   "source": [
    "arcpy.management.GenerateTessellation(\n",
    "    Output_Feature_Class=\"TahoeTessellation_0_1sqkm\",\n",
    "    Extent='-13388021.2623077 4678916.64488463 -13342410.4544964 4769413.84969433 PROJCS[\"WGS_1984_Web_Mercator_Auxiliary_Sphere\",GEOGCS[\"GCS_WGS_1984\",DATUM[\"D_WGS_1984\",SPHEROID[\"WGS_1984\",6378137.0,298.257223563]],PRIMEM[\"Greenwich\",0.0],UNIT[\"Degree\",0.0174532925199433]],PROJECTION[\"Mercator_Auxiliary_Sphere\"],PARAMETER[\"False_Easting\",0.0],PARAMETER[\"False_Northing\",0.0],PARAMETER[\"Central_Meridian\",0.0],PARAMETER[\"Standard_Parallel_1\",0.0],PARAMETER[\"Auxiliary_Sphere_Type\",0.0],UNIT[\"Meter\",1.0]]',\n",
    "    Shape_Type=\"HEXAGON\",\n",
    "    Size=\"0.1 SquareKilometers\",\n",
    "    Spatial_Reference='PROJCS[\"NAD_1983_UTM_Zone_10N\",GEOGCS[\"GCS_North_American_1983\",DATUM[\"D_North_American_1983\",SPHEROID[\"GRS_1980\",6378137.0,298.257222101]],PRIMEM[\"Greenwich\",0.0],UNIT[\"Degree\",0.0174532925199433]],PROJECTION[\"Transverse_Mercator\"],PARAMETER[\"False_Easting\",500000.0],PARAMETER[\"False_Northing\",0.0],PARAMETER[\"Central_Meridian\",-123.0],PARAMETER[\"Scale_Factor\",0.9996],PARAMETER[\"Latitude_Of_Origin\",0.0],UNIT[\"Meter\",1.0]];-5120900 -9998100 10000.0016462827;-100000 10000;-100000 10000;1.00000016391277E-03;0.001;0.001;IsHighPrecision',\n",
    "    H3_Resolution=7\n",
    ")\n",
    "\n",
    "arcpy.management.SelectLayerByLocation(\n",
    "    in_layer=\"TahoeTessellation_0_1sqkm\",\n",
    "    overlap_type=\"INTERSECT\",\n",
    "    select_features=\"TRPABoundary_Erase\",\n",
    "    search_distance=None,\n",
    "    selection_type=\"NEW_SELECTION\",\n",
    "    invert_spatial_relationship=\"INVERT\"\n",
    ")\n",
    "\n",
    "arcpy.management.DeleteRows(\n",
    "    in_rows=\"TahoeTessellation_0_1sqkm\"\n",
    ")"
   ]
  },
  {
   "cell_type": "code",
   "execution_count": 13,
   "metadata": {
    "ExecuteTime": {
     "end_time": "2023-06-26T20:45:46.755414Z",
     "start_time": "2023-06-26T20:45:15.989497Z"
    },
    "hidden": true
   },
   "outputs": [
    {
     "data": {
      "text/html": [
       "<div class='gpresult'><h2>Messages</h2><div id='messages' data-messages='[\"Start Time: Monday, June 26, 2023 1:45:41 PM\",\"Succeeded at Monday, June 26, 2023 1:45:46 PM (Elapsed Time: 4.85 seconds)\"]' data-show='true'><div id = 'default' /></div></div>"
      ],
      "text/plain": [
       "<Result 'TahoeTessellation_1sqkm'>"
      ]
     },
     "execution_count": 13,
     "metadata": {},
     "output_type": "execute_result"
    }
   ],
   "source": [
    "arcpy.management.GenerateTessellation(\n",
    "    Output_Feature_Class=\"TahoeTessellation_1sqkm\",\n",
    "    Extent=\"737668.911313948 4288193.03147232 770952.921734459 4357302.88519489\",\n",
    "    Shape_Type=\"TRANSVERSE_HEXAGON\",\n",
    "    Size=\"1 SquareKilometers\",\n",
    "    Spatial_Reference='PROJCS[\"NAD_1983_UTM_Zone_10N\",GEOGCS[\"GCS_North_American_1983\",DATUM[\"D_North_American_1983\",SPHEROID[\"GRS_1980\",6378137.0,298.257222101]],PRIMEM[\"Greenwich\",0.0],UNIT[\"Degree\",0.0174532925199433]],PROJECTION[\"Transverse_Mercator\"],PARAMETER[\"False_Easting\",500000.0],PARAMETER[\"False_Northing\",0.0],PARAMETER[\"Central_Meridian\",-123.0],PARAMETER[\"Scale_Factor\",0.9996],PARAMETER[\"Latitude_Of_Origin\",0.0],UNIT[\"Meter\",1.0]];-5120900 -9998100 10000;-100000 10000;-100000 10000;0.001;0.001;0.001;IsHighPrecision'\n",
    ")\n",
    "\n",
    "arcpy.management.SelectLayerByLocation(\n",
    "    in_layer=\"TahoeTessellation_1sqkm\",\n",
    "    overlap_type=\"INTERSECT\",\n",
    "    select_features=\"TRPABoundary_Erase\",\n",
    "    search_distance=None,\n",
    "    selection_type=\"NEW_SELECTION\",\n",
    "    invert_spatial_relationship=\"INVERT\"\n",
    ")\n",
    "\n",
    "arcpy.management.DeleteRows(\n",
    "    in_rows= \"TahoeTessellation_1sqkm\"\n",
    ")\n"
   ]
  },
  {
   "cell_type": "markdown",
   "metadata": {
    "heading_collapsed": true
   },
   "source": [
    "### Add Fields"
   ]
  },
  {
   "cell_type": "code",
   "execution_count": 7,
   "metadata": {
    "ExecuteTime": {
     "end_time": "2023-07-06T17:36:01.163240Z",
     "start_time": "2023-07-06T17:35:37.616890Z"
    },
    "hidden": true
   },
   "outputs": [
    {
     "data": {
      "text/html": [
       "<div class='gpresult'><h2>Messages</h2><div id='messages' data-messages='[\"Start Time: Thursday, July 06, 2023 10:35:59 AM\",\"Adding HAS_ROAD to TahoeTessellation_0_1sqkm...\",\"Succeeded at Thursday, July 06, 2023 10:36:01 AM (Elapsed Time: 1.47 seconds)\"]' data-show='true'><div id = 'default' /></div></div>"
      ],
      "text/plain": [
       "<Result 'F:\\\\GIS\\\\PROJECTS\\\\Transportation\\\\Equity\\\\Equity.gdb\\\\TahoeTessellation_0_1sqkm'>"
      ]
     },
     "execution_count": 7,
     "metadata": {},
     "output_type": "execute_result"
    }
   ],
   "source": [
    "# Add fields to accept join values\n",
    " \n",
    "# Set local variables\n",
    "# inFeatures = \"TahoeTessellation_1sqkm\"\n",
    "inFeatures = tahoeHex01km\n",
    "fieldPrecision = 9\n",
    "\n",
    "fieldName1  = \"DISABILITY_DENSITY\"\n",
    "fieldAlias1 = \"Disability Density\"\n",
    "\n",
    "fieldName2  = \"POVERTY_DENSITY\"\n",
    "fieldAlias2 = \"Poverty Density\"\n",
    "\n",
    "fieldName3  = \"ZEROVHH_DENSITY\"\n",
    "fieldAlias3 = \"Zero-Vehicle Household Density\"\n",
    "\n",
    "fieldName4  = \"SENIOR_DENSITY\"\n",
    "fieldAlias4 = \"Senior Density\"\n",
    "\n",
    "fieldName5  = \"FOOD_ACCESS_DISTANCE\"\n",
    "fieldAlias5  = \"Distance to Food Access\"\n",
    "\n",
    "fieldName6  = \"BEACH_ACCESS_DISTANCE\"\n",
    "fieldAlias6 = \"Distance to Free Public Beach\"\n",
    "\n",
    "fieldName7  = \"MEDICARE_ACCESS_DISTANCE\"\n",
    "fieldAlias7 = \"Distance to Medicare Facility\"\n",
    "\n",
    "fieldName8  = \"MEETING_ACCESS_DISTANCE\"\n",
    "fieldAlias8 = \"Distance to Public Meeting Location\"\n",
    "\n",
    "### Density Fields\n",
    "# Run AddField \n",
    "arcpy.management.AddField(inFeatures, \n",
    "                          fieldName1, \"DOUBLE\", \n",
    "                          fieldPrecision,\n",
    "                          field_alias=fieldAlias1, \n",
    "                          field_is_nullable=\"NULLABLE\")\n",
    "# Run AddField \n",
    "arcpy.management.AddField(inFeatures, \n",
    "                          fieldName2, \"DOUBLE\", \n",
    "                          fieldPrecision,\n",
    "                          field_alias=fieldAlias2, \n",
    "                          field_is_nullable=\"NULLABLE\")\n",
    "# Run AddField \n",
    "arcpy.management.AddField(inFeatures, \n",
    "                          fieldName3, \"DOUBLE\", \n",
    "                          fieldPrecision,\n",
    "                          field_alias=fieldAlias3, \n",
    "                          field_is_nullable=\"NULLABLE\")\n",
    "# Run AddField \n",
    "arcpy.management.AddField(inFeatures, \n",
    "                          fieldName4, \"DOUBLE\", \n",
    "                          fieldPrecision,\n",
    "                          field_alias=fieldAlias4, \n",
    "                          field_is_nullable=\"NULLABLE\")\n",
    "### Distance From Fields\n",
    "# Run AddField\n",
    "arcpy.management.AddField(inFeatures, \n",
    "                          fieldName5, \"DOUBLE\", \n",
    "                          fieldPrecision,\n",
    "                          field_alias=fieldAlias5, \n",
    "                          field_is_nullable=\"NULLABLE\")\n",
    "# Run AddField \n",
    "arcpy.management.AddField(inFeatures, \n",
    "                          fieldName6, \"DOUBLE\", \n",
    "                          fieldPrecision,\n",
    "                          field_alias=fieldAlias6, \n",
    "                          field_is_nullable=\"NULLABLE\")\n",
    "# Run AddField \n",
    "arcpy.management.AddField(inFeatures, \n",
    "                          fieldName7, \"DOUBLE\", \n",
    "                          fieldPrecision,\n",
    "                          field_alias=fieldAlias7, \n",
    "                          field_is_nullable=\"NULLABLE\")\n",
    "# Run AddField \n",
    "arcpy.management.AddField(inFeatures, \n",
    "                          fieldName8, \"DOUBLE\", \n",
    "                          fieldPrecision,\n",
    "                          field_alias=fieldAlias8, \n",
    "                          field_is_nullable=\"NULLABLE\")\n",
    "\n",
    "# Run AddField \n",
    "arcpy.management.AddField(inFeatures, \n",
    "                          \"MAJORITY_SLOPE_CLASS\", \"SHORT\", \n",
    "                          field_alias=\"Majority Slope Class\")\n",
    "\n",
    "# Run AddField \n",
    "arcpy.management.AddField(inFeatures, \n",
    "                          \"IS_URBAN\", \"TEXT\", \n",
    "                          field_alias=\"Within Urban Area Boundary?\", \n",
    "                          field_is_nullable=\"NULLABLE\")\n",
    "\n",
    "# Run AddField \n",
    "arcpy.management.AddField(inFeatures, \n",
    "                          \"HAS_ROAD\", \"TEXT\", \n",
    "                          field_alias=\"Road within Hex?\", \n",
    "                          field_is_nullable=\"NULLABLE\")\n"
   ]
  },
  {
   "cell_type": "code",
   "execution_count": null,
   "metadata": {
    "hidden": true
   },
   "outputs": [],
   "source": []
  },
  {
   "cell_type": "code",
   "execution_count": null,
   "metadata": {
    "hidden": true
   },
   "outputs": [],
   "source": []
  },
  {
   "cell_type": "markdown",
   "metadata": {
    "heading_collapsed": true
   },
   "source": [
    "### Census Data Processing"
   ]
  },
  {
   "cell_type": "code",
   "execution_count": null,
   "metadata": {
    "hidden": true
   },
   "outputs": [],
   "source": []
  },
  {
   "cell_type": "code",
   "execution_count": null,
   "metadata": {
    "hidden": true
   },
   "outputs": [],
   "source": [
    "# publish block group with attributes for 2020 density map...."
   ]
  },
  {
   "cell_type": "code",
   "execution_count": null,
   "metadata": {
    "hidden": true
   },
   "outputs": [],
   "source": []
  },
  {
   "cell_type": "markdown",
   "metadata": {},
   "source": [
    "### Spatial Joins & Zonal Stats"
   ]
  },
  {
   "cell_type": "code",
   "execution_count": 22,
   "metadata": {
    "ExecuteTime": {
     "end_time": "2023-07-07T21:54:44.952199Z",
     "start_time": "2023-07-07T21:50:33.180124Z"
    },
    "scrolled": true
   },
   "outputs": [
    {
     "name": "stdout",
     "output_type": "stream",
     "text": [
      "Started data transfer: 2023-07-07 14:52:25\n",
      "Finished data transfer: 2023-07-07 14:52:27\n",
      "Started data transfer: 2023-07-07 14:52:38\n",
      "Finished data transfer: 2023-07-07 14:52:39\n",
      "Started data transfer: 2023-07-07 14:52:50\n",
      "Finished data transfer: 2023-07-07 14:52:51\n",
      "Started data transfer: 2023-07-07 14:53:01\n",
      "Finished data transfer: 2023-07-07 14:53:02\n",
      "Started data transfer: 2023-07-07 14:53:12\n",
      "Finished data transfer: 2023-07-07 14:53:13\n",
      "Started data transfer: 2023-07-07 14:53:22\n",
      "Finished data transfer: 2023-07-07 14:53:24\n",
      "Started data transfer: 2023-07-07 14:53:33\n",
      "Finished data transfer: 2023-07-07 14:53:34\n",
      "Started data transfer: 2023-07-07 14:53:44\n",
      "Finished data transfer: 2023-07-07 14:53:46\n",
      "Started data transfer: 2023-07-07 14:53:56\n",
      "Finished data transfer: 2023-07-07 14:53:57\n"
     ]
    },
    {
     "data": {
      "text/html": [
       "<div class='gpresult'><h2>Messages</h2><div id='messages' data-messages='[\"Start Time: Friday, July 07, 2023 2:54:33 PM\",\"Succeeded at Friday, July 07, 2023 2:54:33 PM (Elapsed Time: 0.38 seconds)\"]' data-show='true'><div id = 'default' /></div></div>"
      ],
      "text/plain": [
       "<Result 'TahoeTessellation_0_1sqkm_La3'>"
      ]
     },
     "execution_count": 22,
     "metadata": {},
     "output_type": "execute_result"
    }
   ],
   "source": [
    "# zonal stats as table - hex bin & slope class\n",
    "arcpy.ia.ZonalStatisticsAsTable(\n",
    "    in_zone_data=tahoeHex01km ,\n",
    "    zone_field=\"GRID_ID\",\n",
    "    in_value_raster=slope,\n",
    "    out_table=zonalstat_slopeClass,\n",
    "    ignore_nodata=\"DATA\",\n",
    "    statistics_type=\"MAJORITY\"\n",
    ")\n",
    "\n",
    "# transfer attributes to hex Layer\n",
    "fieldJoinCalc(tahoeHex01km, ['GRID_ID','MAJORITY_SLOPE_CLASS'], \n",
    "              zonalstat_slopeClass,  ['GRID_ID','MAJORITY'])\n",
    "### Zero Vehicle Household Attribute Update -----------------------------------------------------------------------------------###\n",
    "# Spatial Join\n",
    "arcpy.SpatialJoin_analysis(tahoeHex01km, zvh, hexZVH, \n",
    "                           \"JOIN_ONE_TO_ONE\", \"KEEP_ALL\", \"\", \n",
    "                           \"HAVE_THEIR_CENTER_IN\", \"\", \"\")\n",
    "\n",
    "# transfer attributes to hex Layer\n",
    "fieldJoinCalc(tahoeHex01km, ['GRID_ID','ZEROVHH_DENSITY'], \n",
    "              hexZVH,  ['GRID_ID','ZVH_DENS'])\n",
    "\n",
    "### Seniors Attribute Update -----------------------------------------------------------------------------------###\n",
    "# Spatial Join\n",
    "arcpy.SpatialJoin_analysis(tahoeHex01km, seniors, hexSenior, \n",
    "                           \"JOIN_ONE_TO_ONE\", \"KEEP_ALL\", \"\", \n",
    "                           \"HAVE_THEIR_CENTER_IN\", \"\", \"\")\n",
    "\n",
    "# transfer attributes to hex Layer\n",
    "fieldJoinCalc(tahoeHex01km, ['GRID_ID','SENIOR_DENSITY'], \n",
    "              hexSenior,  ['GRID_ID','OVER65_DENS'])\n",
    "\n",
    "### Disabled Attribute Update -----------------------------------------------------------------------------------###\n",
    "# Spatial Join\n",
    "arcpy.SpatialJoin_analysis(tahoeHex01km, disabled, hexDisabled, \n",
    "                           \"JOIN_ONE_TO_ONE\", \"KEEP_ALL\", \"\", \n",
    "                           \"HAVE_THEIR_CENTER_IN\", \"\", \"\")\n",
    "\n",
    "# transfer attributes to hex Layer\n",
    "fieldJoinCalc(tahoeHex01km, ['GRID_ID','DISABILITY_DENSITY'], \n",
    "              hexDisabled,  ['GRID_ID','HH_DISABILITY_DENS'])\n",
    "\n",
    "### Poverty Attribute Update -----------------------------------------------------------------------------------###\n",
    "# Spatial Join\n",
    "arcpy.SpatialJoin_analysis(tahoeHex01km, poverty, hexPoverty, \n",
    "                           \"JOIN_ONE_TO_ONE\", \"KEEP_ALL\", \"\", \n",
    "                           \"HAVE_THEIR_CENTER_IN\", \"\", \"\")\n",
    "\n",
    "# transfer attributes to hex Layer\n",
    "fieldJoinCalc(tahoeHex01km, ['GRID_ID','POVERTY_DENSITY'], \n",
    "              hexPoverty,  ['GRID_ID','HH_POVERTY_DENS'])\n",
    "\n",
    "### Beach Access Attribute Update -----------------------------------------------------------------------------------###\n",
    "# Spatial Join\n",
    "arcpy.SpatialJoin_analysis(tahoeHex01km, freebeachSA, hexBeachSA, \n",
    "                           \"JOIN_ONE_TO_ONE\", \"KEEP_ALL\", \"\", \n",
    "                           \"HAVE_THEIR_CENTER_IN\", \"\", \"\")\n",
    "\n",
    "# transfer attributes to hex Layer\n",
    "fieldJoinCalc(tahoeHex01km, ['GRID_ID','BEACH_ACCESS_DISTANCE'], \n",
    "              hexBeachSA,  ['GRID_ID','ToBreak'])\n",
    "\n",
    "### Grocery Access Attribute Update -----------------------------------------------------------------------------------###\n",
    "# Spatial Join\n",
    "arcpy.SpatialJoin_analysis(tahoeHex01km, grocerySA, hexGrocerySA, \n",
    "                           \"JOIN_ONE_TO_ONE\", \"KEEP_ALL\", \"\", \n",
    "                           \"HAVE_THEIR_CENTER_IN\", \"\", \"\")\n",
    "\n",
    "# transfer attributes to hex Layer\n",
    "fieldJoinCalc(tahoeHex01km, ['GRID_ID','FOOD_ACCESS_DISTANCE'], \n",
    "              hexGrocerySA,  ['GRID_ID','ToBreak'])\n",
    "\n",
    "### Medicare Access Attribute Update -----------------------------------------------------------------------------------###\n",
    "# Spatial Join\n",
    "arcpy.SpatialJoin_analysis(tahoeHex01km, medicareSA, hexMedicareSA, \n",
    "                           \"JOIN_ONE_TO_ONE\", \"KEEP_ALL\", \"\", \n",
    "                           \"HAVE_THEIR_CENTER_IN\", \"\", \"\")\n",
    "\n",
    "# transfer attributes to hex Layer\n",
    "fieldJoinCalc(tahoeHex01km, ['GRID_ID','MEDICARE_ACCESS_DISTANCE'], \n",
    "              hexMedicareSA,  ['GRID_ID','ToBreak'])\n",
    "\n",
    "### Public Meeting Access Attribute Update -----------------------------------------------------------------------------------###\n",
    "# Spatial Join\n",
    "arcpy.SpatialJoin_analysis(tahoeHex01km, meetingSA, hexMeetingSA, \n",
    "                           \"JOIN_ONE_TO_ONE\", \"KEEP_ALL\", \"\", \n",
    "                           \"HAVE_THEIR_CENTER_IN\", \"\", \"\")\n",
    "\n",
    "# transfer attributes to hex Layer\n",
    "fieldJoinCalc(tahoeHex01km, ['GRID_ID','MEETING_ACCESS_DISTANCE'], \n",
    "              hexMeetingSA,  ['GRID_ID','ToBreak'])\n",
    "\n",
    "### Urban Hex Attribute Update -----------------------------------------------------------------------------###\n",
    "\n",
    "# Select parcels that intersect urban area boundary\n",
    "urbanSelect = arcpy.SelectLayerByLocation_management(tahoeHex01km, \n",
    "                                                          'INTERSECT', \n",
    "                                                           urban, \n",
    "                                                           0, \n",
    "                                                          'NEW_SELECTION')\n",
    "# Update field 1= yes 0 = no\n",
    "with arcpy.da.UpdateCursor(urbanSelect, ['IS_URBAN']) as cursor:\n",
    "    for row in cursor:\n",
    "        row[0] = '1'\n",
    "        cursor.updateRow(row) \n",
    "del cursor \n",
    "\n",
    "# switch the selection\n",
    "urbanAreaSelect = arcpy.SelectLayerByAttribute_management(urbanSelect,'SWITCH_SELECTION')\n",
    "\n",
    "# update other parcels\n",
    "with arcpy.da.UpdateCursor(urbanAreaSelect, ['IS_URBAN']) as cursor:\n",
    "    for row in cursor:\n",
    "        row[0] = '0'\n",
    "        cursor.updateRow(row)\n",
    "del cursor\n",
    "\n",
    "### Streets Hex Attribute Update -----------------------------------------------------------------------------###\n",
    "\n",
    "# Select parcels that intersect urban area boundary\n",
    "streetSelect = arcpy.SelectLayerByLocation_management(tahoeHex01km, \n",
    "                                                          'INTERSECT', \n",
    "                                                           streets, \n",
    "                                                           0, \n",
    "                                                          'NEW_SELECTION')\n",
    "# Update field 1= yes 0 = no\n",
    "with arcpy.da.UpdateCursor(streetSelect, ['HAS_ROAD']) as cursor:\n",
    "    for row in cursor:\n",
    "        row[0] = '1'\n",
    "        cursor.updateRow(row) \n",
    "del cursor \n",
    "\n",
    "# switch the selection\n",
    "streetNotSelect = arcpy.SelectLayerByAttribute_management(streetSelect,'SWITCH_SELECTION')\n",
    "\n",
    "# update other parcels\n",
    "with arcpy.da.UpdateCursor(streetNotSelect, ['HAS_ROAD']) as cursor:\n",
    "    for row in cursor:\n",
    "        row[0] = '0'\n",
    "        cursor.updateRow(row)\n",
    "del cursor\n",
    "\n",
    "# clear selection\n",
    "arcpy.SelectLayerByAttribute_management(tahoeHex01km, \"CLEAR_SELECTION\")"
   ]
  },
  {
   "cell_type": "markdown",
   "metadata": {},
   "source": [
    "### Transform Values"
   ]
  },
  {
   "cell_type": "code",
   "execution_count": 23,
   "metadata": {
    "ExecuteTime": {
     "end_time": "2023-07-07T21:56:43.517440Z",
     "start_time": "2023-07-07T21:56:38.994270Z"
    }
   },
   "outputs": [],
   "source": [
    "# If the value is null, replace it with 0\n",
    "with arcpy.da.UpdateCursor(tahoeHex01km, ['ZEROVHH_DENSITY', 'SENIOR_DENSITY', \n",
    "                                          'POVERTY_DENSITY', 'DISABILITY_DENSITY']) as cursor:\n",
    "    for row in cursor:\n",
    "        if row[0] is None:\n",
    "            row[0] = 0\n",
    "            cursor.updateRow(row)\n",
    "        if row[1] is None:\n",
    "            row[1] = 0\n",
    "            cursor.updateRow(row)\n",
    "        if row[2] is None:\n",
    "            row[2] = 0\n",
    "            cursor.updateRow(row)\n",
    "        if row[3] is None:\n",
    "            row[3] = 0\n",
    "            cursor.updateRow(row)\n",
    "del cursor"
   ]
  },
  {
   "cell_type": "code",
   "execution_count": 24,
   "metadata": {
    "ExecuteTime": {
     "end_time": "2023-07-07T21:56:54.390364Z",
     "start_time": "2023-07-07T21:56:43.519026Z"
    }
   },
   "outputs": [],
   "source": [
    "with arcpy.da.UpdateCursor(tahoeHex01km, [\"BEACH_ACCESS_DISTANCE\"]) as cursor:\n",
    "    for row in cursor:\n",
    "        if row[0]  == 402.336:\n",
    "            row[0]  = 0.25\n",
    "        elif row[0]  == 804.672:\n",
    "            row[0]  = 0.5\n",
    "        elif row[0]  == 1609.344:\n",
    "            row[0]  = 1\n",
    "        elif row[0] is None:\n",
    "            row[0] = 3\n",
    "        elif row[0]  > 1609.344 and row[0] <= 3218.688:\n",
    "            row[0]  = 2\n",
    "        elif row[0] > 3218.688 and row[0] <= 6400:\n",
    "            row[0]= 3\n",
    "        else:\n",
    "            row[0] = 3\n",
    "\n",
    "        cursor.updateRow(row)\n",
    "del cursor\n",
    "\n",
    "with arcpy.da.UpdateCursor(tahoeHex01km, [\"FOOD_ACCESS_DISTANCE\"]) as cursor:\n",
    "    for row in cursor:\n",
    "        if row[0]  == 402.336:\n",
    "            row[0]  = 0.25\n",
    "        elif row[0]  == 804.672:\n",
    "            row[0]  = 0.5\n",
    "        elif row[0]  == 1609.344:\n",
    "            row[0]  = 1\n",
    "        elif row[0] is None:\n",
    "            row[0] = 3\n",
    "        elif row[0]  > 1609.344 and row[0] <= 3218.688:\n",
    "            row[0]  = 2\n",
    "        elif row[0] > 3218.688 and row[0] <= 6400:\n",
    "            row[0]= 3\n",
    "        else:\n",
    "            row[0] = 3\n",
    "\n",
    "        cursor.updateRow(row)\n",
    "del cursor\n",
    "\n",
    "with arcpy.da.UpdateCursor(tahoeHex01km, [\"MEDICARE_ACCESS_DISTANCE\"]) as cursor:\n",
    "    for row in cursor:\n",
    "        if row[0]  == 402.336:\n",
    "            row[0]  = 0.25\n",
    "        elif row[0]  == 804.672:\n",
    "            row[0]  = 0.5\n",
    "        elif row[0]  == 1609.344:\n",
    "            row[0]  = 1\n",
    "        elif row[0] is None:\n",
    "            row[0] = 3\n",
    "        elif row[0]  > 1609.344 and row[0] <= 3218.688:\n",
    "            row[0]  = 2\n",
    "        elif row[0] > 3218.688 and row[0] <= 6400:\n",
    "            row[0]= 3\n",
    "        else:\n",
    "            row[0] = 3\n",
    "\n",
    "        cursor.updateRow(row)\n",
    "del cursor\n",
    "\n",
    "with arcpy.da.UpdateCursor(tahoeHex01km, [\"MEETING_ACCESS_DISTANCE\"]) as cursor:\n",
    "    for row in cursor:\n",
    "        if row[0]  == 402.336:\n",
    "            row[0]  = 0.25\n",
    "        elif row[0]  == 804.672:\n",
    "            row[0]  = 0.5\n",
    "        elif row[0]  == 1609.344:\n",
    "            row[0]  = 1\n",
    "        elif row[0] is None:\n",
    "            row[0] = 3\n",
    "        elif row[0]  > 1609.344 and row[0] <= 3218.688:\n",
    "            row[0]  = 2\n",
    "        elif row[0] > 3218.688 and row[0] <= 6400:\n",
    "            row[0]= 3\n",
    "        else:\n",
    "            row[0] = 3\n",
    "\n",
    "        cursor.updateRow(row)\n",
    "del cursor\n",
    "\n",
    "# with arcpy.da.UpdateCursor(tahoeHex01km, [\"MAJORITY_SLOPE_CLASS\"]) as cursor:\n",
    "#     for row in cursor:\n",
    "#         if row[0] == \"1\":\n",
    "#             row[0]  = \"0-5%\"\n",
    "#         elif row[0]  == \"2\":\n",
    "#             row[0]  = \"5-15%\"\n",
    "#         elif row[0]  == \"3\":\n",
    "#             row[0]  = \"15-30%\"\n",
    "#         elif row[0]  == \"4\":\n",
    "#             row[0]  = \"30-50%\"\n",
    "#         elif row[0]  == \"5\":\n",
    "#             row[0]  = \">50%\"\n",
    "#         cursor.updateRow(row)\n",
    "# del cursor"
   ]
  },
  {
   "cell_type": "markdown",
   "metadata": {},
   "source": [
    "### Network Analysis"
   ]
  },
  {
   "cell_type": "markdown",
   "metadata": {},
   "source": [
    "#### Create Service Area"
   ]
  },
  {
   "cell_type": "code",
   "execution_count": 9,
   "metadata": {
    "ExecuteTime": {
     "end_time": "2023-07-07T20:10:06.327981Z",
     "start_time": "2023-07-07T20:09:46.811830Z"
    }
   },
   "outputs": [
    {
     "data": {
      "text/plain": [
       "<arcpy._na._sas.ServiceArea object at 0x0000018C4F12C2E0>"
      ]
     },
     "execution_count": 9,
     "metadata": {},
     "output_type": "execute_result"
    }
   ],
   "source": [
    "createServiceArea(nd_path, nd_layer_name)"
   ]
  },
  {
   "cell_type": "markdown",
   "metadata": {},
   "source": [
    "#### Solve Service Area"
   ]
  },
  {
   "cell_type": "code",
   "execution_count": 20,
   "metadata": {
    "ExecuteTime": {
     "end_time": "2023-07-07T21:49:52.753293Z",
     "start_time": "2023-07-07T21:49:35.537542Z"
    }
   },
   "outputs": [],
   "source": [
    "# Check out the Network Analyst extension license.\n",
    "arcpy.CheckOutExtension(\"network\")\n",
    "\n",
    "# Create a network dataset layer. The layer will be referenced using its name.\n",
    "arcpy.nax.MakeNetworkDatasetLayer(nd_path, nd_layer_name)\n",
    "\n",
    "# Instantiate a ServiceArea analysis object.\n",
    "service_area = arcpy.nax.ServiceArea(nd_layer_name)\n",
    "\n",
    "# Get the desired travel mode for the analysis.\n",
    "nd_travel_modes = arcpy.nax.GetTravelModes(nd_layer_name)\n",
    "travel_mode = nd_travel_modes[\"New Travel Mode\"]\n",
    "\n",
    "# Set properties.\n",
    "service_area.distanceUnits     = arcpy.nax.DistanceUnits.Miles\n",
    "service_area.defaultImpedanceCutoffs = [402.336,804.672,1609.344,3218.688, 6400]\n",
    "service_area.travelMode        = travel_mode\n",
    "service_area.allowAutoRelocate = True\n",
    "service_area.outputType        = arcpy.nax.ServiceAreaOutputType.Polygons\n",
    "service_area.geometryAtOverlap = arcpy.nax.ServiceAreaOverlapGeometry.Split\n",
    "service_area.searchTolerance   = 5000"
   ]
  },
  {
   "cell_type": "code",
   "execution_count": 21,
   "metadata": {
    "ExecuteTime": {
     "end_time": "2023-07-07T21:50:04.424971Z",
     "start_time": "2023-07-07T21:49:55.868811Z"
    }
   },
   "outputs": [
    {
     "name": "stdout",
     "output_type": "stream",
     "text": [
      "Service Area generated for PublicMeetingLocations and saved as F:\\GIS\\PROJECTS\\Transportation\\Equity\\Equity.gdb\\Public_Meetings_ServiceArea\n"
     ]
    }
   ],
   "source": [
    "\n",
    "# solveServiceArea(freebeach,freebeachSA, service_area)\n",
    "# solveServiceArea(grocery,grocerySA, service_area)\n",
    "solveServiceArea(meetings,meetingSA, service_area)\n",
    "# solveServiceArea(medicare,medicareSA, service_area)"
   ]
  },
  {
   "cell_type": "markdown",
   "metadata": {
    "heading_collapsed": true
   },
   "source": [
    "### Space Time Cube "
   ]
  },
  {
   "cell_type": "code",
   "execution_count": null,
   "metadata": {
    "hidden": true
   },
   "outputs": [],
   "source": []
  },
  {
   "cell_type": "code",
   "execution_count": null,
   "metadata": {
    "hidden": true
   },
   "outputs": [],
   "source": []
  }
 ],
 "metadata": {
  "kernelspec": {
   "display_name": "ArcGISPro",
   "language": "Python",
   "name": "python3"
  },
  "language_info": {
   "file_extension": ".py",
   "name": "python",
   "version": "3"
  },
  "toc": {
   "base_numbering": 1,
   "nav_menu": {},
   "number_sections": true,
   "sideBar": true,
   "skip_h1_title": false,
   "title_cell": "Table of Contents",
   "title_sidebar": "Contents",
   "toc_cell": false,
   "toc_position": {},
   "toc_section_display": true,
   "toc_window_display": false
  }
 },
 "nbformat": 4,
 "nbformat_minor": 2
}
